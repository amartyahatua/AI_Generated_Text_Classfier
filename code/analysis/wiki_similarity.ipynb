{
 "cells": [
  {
   "cell_type": "code",
   "execution_count": 1,
   "metadata": {},
   "outputs": [
    {
     "name": "stdout",
     "output_type": "stream",
     "text": [
      "d:\\OneDrive - MNSCU\\Research\\2023_AI_Text_Classification\\AI_Generated_Text_Classfier\n"
     ]
    }
   ],
   "source": [
    "import pandas as pd\n",
    "import string\n",
    "import numpy as np\n",
    "import os\n",
    "print(os.getcwd())"
   ]
  },
  {
   "cell_type": "code",
   "execution_count": 2,
   "metadata": {},
   "outputs": [
    {
     "name": "stdout",
     "output_type": "stream",
     "text": [
      "(3974, 50786)\n"
     ]
    }
   ],
   "source": [
    "df1 = pd.read_csv('./data/features_GT.csv')\n",
    "df1.sort_values(by='indexes', inplace=True)\n",
    "print(df1.shape)"
   ]
  },
  {
   "cell_type": "code",
   "execution_count": 3,
   "metadata": {},
   "outputs": [
    {
     "name": "stdout",
     "output_type": "stream",
     "text": [
      "(4557, 50786)\n"
     ]
    }
   ],
   "source": [
    "df2 = pd.read_csv('./data/features_ChatGPT.csv')\n",
    "df2.sort_values(by='indexes', inplace=True)\n",
    "print(df2.shape)"
   ]
  },
  {
   "cell_type": "code",
   "execution_count": 4,
   "metadata": {},
   "outputs": [
    {
     "name": "stdout",
     "output_type": "stream",
     "text": [
      "(3643, 50786)\n"
     ]
    }
   ],
   "source": [
    "df1_filtered = df1.loc[df1['indexes'].isin(df2['indexes'])]\n",
    "print(df1_filtered.shape)"
   ]
  },
  {
   "cell_type": "code",
   "execution_count": 5,
   "metadata": {},
   "outputs": [
    {
     "name": "stdout",
     "output_type": "stream",
     "text": [
      "(3643, 50786)\n"
     ]
    }
   ],
   "source": [
    "df2_filtered = df2.loc[df2['indexes'].isin(df1['indexes'])]\n",
    "print(df2_filtered.shape)"
   ]
  },
  {
   "cell_type": "code",
   "execution_count": 14,
   "metadata": {},
   "outputs": [
    {
     "name": "stderr",
     "output_type": "stream",
     "text": [
      "100%|██████████| 3643/3643 [02:01<00:00, 29.96it/s]\n"
     ]
    }
   ],
   "source": [
    "from tqdm import tqdm\n",
    "from sklearn.metrics.pairwise import cosine_similarity\n",
    "from sklearn.metrics.pairwise import euclidean_distances\n",
    "\n",
    "similarities = []\n",
    "for i in tqdm(range(df1_filtered.shape[0])):\n",
    "    try:\n",
    "        gt_features = df1_filtered.iloc[i, 3:].to_numpy()\n",
    "        #print(gt_features.shape)\n",
    "        chatgpt_features = df2_filtered.iloc[i, 3:].to_numpy()\n",
    "        #print(chatgpt_features.shape)\n",
    "        similarity_score = cosine_similarity([gt_features], [chatgpt_features])\n",
    "        #print('row ', i, ': score=', similarity_score)\n",
    "        similarities.append(similarity_score)\n",
    "    except Exception as e:\n",
    "        similarity_score = 0\n",
    "        similarities.append(similarity_score)\n",
    "        print('Cosine error at row ', i, str(e))\n",
    "        break\n",
    "similarities = np.reshape(similarities, (-1,1))\n",
    "similarities = pd.DataFrame(similarities, columns=['Cosine similarity'])\n",
    "similarities.to_csv('./data/wiki_features_similarity.csv', index=False)"
   ]
  }
 ],
 "metadata": {
  "kernelspec": {
   "display_name": "py37",
   "language": "python",
   "name": "python3"
  },
  "language_info": {
   "codemirror_mode": {
    "name": "ipython",
    "version": 3
   },
   "file_extension": ".py",
   "mimetype": "text/x-python",
   "name": "python",
   "nbconvert_exporter": "python",
   "pygments_lexer": "ipython3",
   "version": "3.7.15"
  },
  "orig_nbformat": 4
 },
 "nbformat": 4,
 "nbformat_minor": 2
}
