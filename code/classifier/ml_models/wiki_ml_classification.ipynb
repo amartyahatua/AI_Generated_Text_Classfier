{
 "cells": [
  {
   "cell_type": "code",
   "execution_count": 1,
   "metadata": {},
   "outputs": [],
   "source": [
    "import pandas as pd\n",
    "import string\n",
    "import numpy as np"
   ]
  },
  {
   "cell_type": "code",
   "execution_count": 2,
   "metadata": {},
   "outputs": [
    {
     "name": "stdout",
     "output_type": "stream",
     "text": [
      "d:\\OneDrive - MNSCU\\Research\\2023_AI_Text_Classification\\AI_Generated_Text_Classfier\n"
     ]
    }
   ],
   "source": [
    "#%%\n",
    "import os\n",
    "print(os.getcwd())"
   ]
  },
  {
   "cell_type": "code",
   "execution_count": 3,
   "metadata": {},
   "outputs": [
    {
     "name": "stdout",
     "output_type": "stream",
     "text": [
      "(3974, 50786)\n"
     ]
    }
   ],
   "source": [
    "df1 = pd.read_csv('./data/wiki_features/wiki_features_GT.csv')\n",
    "df1['Label'] = 0 #ground truth - human text\n",
    "print(df1.shape)"
   ]
  },
  {
   "cell_type": "code",
   "execution_count": 4,
   "metadata": {},
   "outputs": [
    {
     "name": "stdout",
     "output_type": "stream",
     "text": [
      "(4557, 50786)\n"
     ]
    }
   ],
   "source": [
    "df2 = pd.read_csv('./data/wiki_features/wiki_features_ChatGPT.csv')\n",
    "df2['Label'] = 1 #ChatGPT response\n",
    "print(df2.shape)"
   ]
  },
  {
   "cell_type": "code",
   "execution_count": 5,
   "metadata": {},
   "outputs": [
    {
     "name": "stdout",
     "output_type": "stream",
     "text": [
      "(8530, 50786)\n",
      "Index(['Unnamed: 0', 'indexes', 'word_count', 'char_count', 'word_density',\n",
      "       'punctuation_count', 'title_word_count', 'upper_case_word_count',\n",
      "       'noun_count', 'verb_count',\n",
      "       ...\n",
      "       '4991.2', '4992.2', '4993.2', '4994.2', '4995.2', '4996.2', '4997.2',\n",
      "       '4998.2', '4999.2', 'Label'],\n",
      "      dtype='object', length=50786)\n"
     ]
    }
   ],
   "source": [
    "merged_df = pd.concat([df1, df2], ignore_index = True, sort = False)\n",
    "merged_df.dropna(inplace=True)\n",
    "print(merged_df.shape)\n",
    "print(merged_df.columns)"
   ]
  },
  {
   "cell_type": "code",
   "execution_count": 8,
   "metadata": {},
   "outputs": [
    {
     "name": "stdout",
     "output_type": "stream",
     "text": [
      "(8530, 50783) (8530,)\n"
     ]
    }
   ],
   "source": [
    "X = merged_df.iloc[:, 2:-1]\n",
    "y = merged_df['Label']\n",
    "print(X.shape, y.shape)"
   ]
  },
  {
   "cell_type": "code",
   "execution_count": 9,
   "metadata": {},
   "outputs": [
    {
     "name": "stdout",
     "output_type": "stream",
     "text": [
      "(5715, 50783) (5715, 1) (2815, 50783) (2815, 1)\n"
     ]
    }
   ],
   "source": [
    "from sklearn.model_selection import train_test_split\n",
    "X_train, X_test, y_train, y_test = train_test_split(X, y, test_size=0.33, random_state=42)\n",
    "X_train = pd.DataFrame(X_train)\n",
    "X_train = X_train.reset_index(drop=True)\n",
    "X_test = pd.DataFrame(X_test)\n",
    "X_test = X_test.reset_index(drop=True)\n",
    "y_train = pd.DataFrame(y_train)\n",
    "y_train = y_train.reset_index(drop=True)\n",
    "y_test = pd.DataFrame(y_test)\n",
    "y_test = y_test.reset_index(drop=True)\n",
    "print(X_train.shape, y_train.shape, X_test.shape, y_test.shape)"
   ]
  },
  {
   "cell_type": "code",
   "execution_count": 10,
   "metadata": {},
   "outputs": [
    {
     "name": "stdout",
     "output_type": "stream",
     "text": [
      "Random Forest Model fitting started ....\n"
     ]
    },
    {
     "name": "stderr",
     "output_type": "stream",
     "text": [
      "c:\\Users\\nttru\\anaconda3\\envs\\py37\\lib\\site-packages\\ipykernel_launcher.py:12: DataConversionWarning: A column-vector y was passed when a 1d array was expected. Please change the shape of y to (n_samples,), for example using ravel().\n",
      "  if sys.path[0] == \"\":\n"
     ]
    },
    {
     "name": "stdout",
     "output_type": "stream",
     "text": [
      "RF Model saved\n",
      "Rf - F1 Score =  0.9993311036789299\n",
      "              precision    recall  f1-score   support\n",
      "\n",
      "           0     0.9985    1.0000    0.9992      1319\n",
      "           1     1.0000    0.9987    0.9993      1496\n",
      "\n",
      "    accuracy                         0.9993      2815\n",
      "   macro avg     0.9992    0.9993    0.9993      2815\n",
      "weighted avg     0.9993    0.9993    0.9993      2815\n",
      "\n"
     ]
    }
   ],
   "source": [
    "import pickle\n",
    "from sklearn.metrics import f1_score, classification_report\n",
    "from sklearn.ensemble import RandomForestClassifier\n",
    "#train random forest\n",
    "rf_clf = RandomForestClassifier(n_estimators=500, criterion='gini', max_depth=None, \\\n",
    "                                min_samples_split=10, min_samples_leaf=10, min_weight_fraction_leaf=0.0, \\\n",
    "                                max_features='sqrt', max_leaf_nodes=None, min_impurity_decrease=0.0, \\\n",
    "                                bootstrap=True, oob_score=False, n_jobs=None, random_state=None, verbose=0, \\\n",
    "                                warm_start=False, class_weight=None, ccp_alpha=0.0, max_samples=None)\n",
    "\n",
    "print(\"Random Forest Model fitting started ....\")\n",
    "rf_model = rf_clf.fit(X_train, y_train)\n",
    "pickle.dump(rf_model, open('./model/wiki_rf.pkl', 'wb'))\n",
    "print('RF Model saved')\n",
    "y_pred = rf_clf.predict(X_test)\n",
    "y_pred = np.where(y_pred <= 0.5, 0, 1)\n",
    "f1 = f1_score(y_test, y_pred)\n",
    "print('RF - F1 Score = ', f1)\n",
    "print(classification_report(y_test, y_pred, digits=4))"
   ]
  },
  {
   "cell_type": "code",
   "execution_count": 11,
   "metadata": {},
   "outputs": [
    {
     "name": "stdout",
     "output_type": "stream",
     "text": [
      "SVM Model fitting started ....\n"
     ]
    },
    {
     "name": "stderr",
     "output_type": "stream",
     "text": [
      "c:\\Users\\nttru\\anaconda3\\envs\\py37\\lib\\site-packages\\sklearn\\utils\\validation.py:63: DataConversionWarning: A column-vector y was passed when a 1d array was expected. Please change the shape of y to (n_samples, ), for example using ravel().\n",
      "  return f(*args, **kwargs)\n"
     ]
    },
    {
     "name": "stdout",
     "output_type": "stream",
     "text": [
      "SVM Model saved\n",
      "SVM - F1 Score =  0.7650485436893204\n",
      "              precision    recall  f1-score   support\n",
      "\n",
      "           0     0.7428    0.6876    0.7142      1319\n",
      "           1     0.7415    0.7901    0.7650      1496\n",
      "\n",
      "    accuracy                         0.7421      2815\n",
      "   macro avg     0.7422    0.7389    0.7396      2815\n",
      "weighted avg     0.7421    0.7421    0.7412      2815\n",
      "\n"
     ]
    }
   ],
   "source": [
    "#train SVM model\n",
    "from sklearn import svm\n",
    "from sklearn.metrics import f1_score, classification_report\n",
    "\n",
    "svm_clf = svm.SVC(C=4.0, kernel='rbf', degree=7, gamma='scale', coef0=0.0, shrinking=True, \\\n",
    "                    probability=False, tol=0.001, cache_size=200, class_weight=None, verbose=False, \\\n",
    "                    max_iter=-1, decision_function_shape='ovr', break_ties=False, random_state=None)\n",
    "\n",
    "print(\"SVM Model fitting started ....\")\n",
    "svm_model = svm_clf.fit(X_train, y_train)\n",
    "pickle.dump(svm_model, open('./model/wiki_svm.pkl', 'wb'))\n",
    "print('SVM Model saved')\n",
    "y_pred = svm_clf.predict(X_test)\n",
    "y_pred = np.where(y_pred <= 0.5, 0, 1)\n",
    "f1 = f1_score(y_test, y_pred)\n",
    "print('SVM - F1 Score = ', f1)\n",
    "print(classification_report(y_test, y_pred, digits=4))"
   ]
  },
  {
   "cell_type": "code",
   "execution_count": 12,
   "metadata": {},
   "outputs": [
    {
     "name": "stdout",
     "output_type": "stream",
     "text": [
      "XGB Model fitting started ....\n"
     ]
    },
    {
     "name": "stderr",
     "output_type": "stream",
     "text": [
      "c:\\Users\\nttru\\anaconda3\\envs\\py37\\lib\\site-packages\\sklearn\\utils\\validation.py:63: DataConversionWarning: A column-vector y was passed when a 1d array was expected. Please change the shape of y to (n_samples, ), for example using ravel().\n",
      "  return f(*args, **kwargs)\n"
     ]
    },
    {
     "name": "stdout",
     "output_type": "stream",
     "text": [
      "Model saved\n",
      "F1 Score =  0.9993315508021391\n",
      "              precision    recall  f1-score   support\n",
      "\n",
      "           0     0.9992    0.9992    0.9992      1319\n",
      "           1     0.9993    0.9993    0.9993      1496\n",
      "\n",
      "    accuracy                         0.9993      2815\n",
      "   macro avg     0.9993    0.9993    0.9993      2815\n",
      "weighted avg     0.9993    0.9993    0.9993      2815\n",
      "\n"
     ]
    },
    {
     "data": {
      "text/plain": [
       "\"\\nexplainer = shap.Explainer(model)\\nX_train = pd.DataFrame(X_train)\\nshap_values = explainer(X_train)\\n# visualize the first prediction's explanation\\nshap.plots.waterfall(shap_values[0])\\n\""
      ]
     },
     "execution_count": 12,
     "metadata": {},
     "output_type": "execute_result"
    }
   ],
   "source": [
    "#XGB model\n",
    "#import shap\n",
    "from sklearn.metrics import f1_score, classification_report\n",
    "from sklearn.ensemble import GradientBoostingClassifier\n",
    "\n",
    "xgb_clf = GradientBoostingClassifier(learning_rate=0.01, n_estimators=1000)\n",
    "print(\"XGB Model fitting started ....\")\n",
    "model = xgb_clf.fit(X_train, y_train)\n",
    "pickle.dump(model, open('./model/wiki_xgb.pkl', 'wb'))\n",
    "print('Model saved')\n",
    "y_pred = xgb_clf.predict(X_test)\n",
    "y_pred = np.where(y_pred <= 0.5, 0, 1)\n",
    "f1 = f1_score(y_test, y_pred)\n",
    "print('F1 Score = ', f1)\n",
    "print(classification_report(y_test, y_pred, digits=4))\n",
    "'''\n",
    "explainer = shap.Explainer(model)\n",
    "X_train = pd.DataFrame(X_train)\n",
    "shap_values = explainer(X_train)\n",
    "# visualize the first prediction's explanation\n",
    "shap.plots.waterfall(shap_values[0])\n",
    "'''"
   ]
  }
 ],
 "metadata": {
  "kernelspec": {
   "display_name": "py37",
   "language": "python",
   "name": "python3"
  },
  "language_info": {
   "codemirror_mode": {
    "name": "ipython",
    "version": 3
   },
   "file_extension": ".py",
   "mimetype": "text/x-python",
   "name": "python",
   "nbconvert_exporter": "python",
   "pygments_lexer": "ipython3",
   "version": "3.7.15"
  },
  "orig_nbformat": 4
 },
 "nbformat": 4,
 "nbformat_minor": 2
}
