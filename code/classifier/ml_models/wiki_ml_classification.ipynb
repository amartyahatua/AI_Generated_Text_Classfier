{
 "cells": [
  {
   "cell_type": "code",
   "execution_count": 2,
   "metadata": {},
   "outputs": [],
   "source": [
    "import pandas as pd\n",
    "import string\n",
    "import numpy as np"
   ]
  },
  {
   "cell_type": "code",
   "execution_count": 16,
   "metadata": {},
   "outputs": [
    {
     "name": "stdout",
     "output_type": "stream",
     "text": [
      "d:\\OneDrive - MNSCU\\Research\\2023_AI_Text_Classification\\AI_Generated_Text_Classfier\\code\\classifier\\ml_models\n"
     ]
    }
   ],
   "source": [
    "#%%\n",
    "import os\n",
    "print(os.getcwd())"
   ]
  },
  {
   "cell_type": "code",
   "execution_count": 5,
   "metadata": {},
   "outputs": [
    {
     "data": {
      "text/plain": [
       "Index(['Unnamed: 0', 'word_count', 'char_count', 'word_density',\n",
       "       'punctuation_count', 'title_word_count', 'upper_case_word_count',\n",
       "       'noun_count', 'verb_count', 'adj_count',\n",
       "       ...\n",
       "       'lda10', 'lda11', 'lda12', 'lda13', 'lda14', 'lda15', 'lda16', 'lda17',\n",
       "       'lda18', 'lda19'],\n",
       "      dtype='object', length=50783)"
      ]
     },
     "execution_count": 5,
     "metadata": {},
     "output_type": "execute_result"
    }
   ],
   "source": [
    "df1 = pd.read_csv('../../../data/features_GT.csv')\n",
    "df1['Label'] = 0 #ground truth - human text"
   ]
  },
  {
   "cell_type": "code",
   "execution_count": 7,
   "metadata": {},
   "outputs": [],
   "source": [
    "df2 = pd.read_csv('../../../data/features_ChatGPT.csv')\n",
    "df2['Label'] = 1 #GPT response"
   ]
  },
  {
   "cell_type": "code",
   "execution_count": 8,
   "metadata": {},
   "outputs": [
    {
     "name": "stdout",
     "output_type": "stream",
     "text": [
      "(8534, 50784)\n",
      "Index(['Unnamed: 0', 'word_count', 'char_count', 'word_density',\n",
      "       'punctuation_count', 'title_word_count', 'upper_case_word_count',\n",
      "       'noun_count', 'verb_count', 'adj_count',\n",
      "       ...\n",
      "       'lda11', 'lda12', 'lda13', 'lda14', 'lda15', 'lda16', 'lda17', 'lda18',\n",
      "       'lda19', 'Label'],\n",
      "      dtype='object', length=50784)\n"
     ]
    }
   ],
   "source": [
    "merged_df = pd.concat([df1, df2], ignore_index = True, sort = False)\n",
    "print(merged_df.shape)\n",
    "print(merged_df.columns)"
   ]
  },
  {
   "cell_type": "code",
   "execution_count": 10,
   "metadata": {},
   "outputs": [
    {
     "name": "stdout",
     "output_type": "stream",
     "text": [
      "(8534, 50782) (8534,)\n"
     ]
    }
   ],
   "source": [
    "X = merged_df.iloc[:, 1:50783]\n",
    "y = merged_df['Label']\n",
    "print(X.shape, y.shape)"
   ]
  },
  {
   "cell_type": "code",
   "execution_count": 11,
   "metadata": {},
   "outputs": [
    {
     "name": "stdout",
     "output_type": "stream",
     "text": [
      "(5717, 50782) (5717, 1) (2817, 50782) (2817, 1)\n"
     ]
    }
   ],
   "source": [
    "from sklearn.model_selection import train_test_split\n",
    "X_train, X_test, y_train, y_test = train_test_split(X, y, test_size=0.33, random_state=42)\n",
    "X_train = pd.DataFrame(X_train)\n",
    "X_train = X_train.reset_index(drop=True)\n",
    "X_test = pd.DataFrame(X_test)\n",
    "X_test = X_test.reset_index(drop=True)\n",
    "y_train = pd.DataFrame(y_train)\n",
    "y_train = y_train.reset_index(drop=True)\n",
    "y_test = pd.DataFrame(y_test)\n",
    "y_test = y_test.reset_index(drop=True)\n",
    "print(X_train.shape, y_train.shape, X_test.shape, y_test.shape)"
   ]
  },
  {
   "cell_type": "code",
   "execution_count": 13,
   "metadata": {},
   "outputs": [
    {
     "name": "stdout",
     "output_type": "stream",
     "text": [
      "Model fitting started ....\n"
     ]
    },
    {
     "name": "stderr",
     "output_type": "stream",
     "text": [
      "c:\\Users\\nttru\\anaconda3\\envs\\py37\\lib\\site-packages\\ipykernel_launcher.py:12: DataConversionWarning: A column-vector y was passed when a 1d array was expected. Please change the shape of y to (n_samples,), for example using ravel().\n",
      "  if sys.path[0] == \"\":\n"
     ]
    },
    {
     "name": "stdout",
     "output_type": "stream",
     "text": [
      "Model saved\n",
      "F1 Score =  0.998998998998999\n",
      "              precision    recall  f1-score   support\n",
      "\n",
      "           0       1.00      1.00      1.00      1317\n",
      "           1       1.00      1.00      1.00      1500\n",
      "\n",
      "    accuracy                           1.00      2817\n",
      "   macro avg       1.00      1.00      1.00      2817\n",
      "weighted avg       1.00      1.00      1.00      2817\n",
      "\n"
     ]
    }
   ],
   "source": [
    "import pickle\n",
    "from sklearn.metrics import f1_score, classification_report\n",
    "from sklearn.ensemble import RandomForestClassifier\n",
    "#train random forest\n",
    "rf_clf = RandomForestClassifier(n_estimators=500, criterion='gini', max_depth=None, \\\n",
    "                                min_samples_split=10, min_samples_leaf=10, min_weight_fraction_leaf=0.0, \\\n",
    "                                max_features='sqrt', max_leaf_nodes=None, min_impurity_decrease=0.0, \\\n",
    "                                bootstrap=True, oob_score=False, n_jobs=None, random_state=None, verbose=0, \\\n",
    "                                warm_start=False, class_weight=None, ccp_alpha=0.0, max_samples=None)\n",
    "\n",
    "print(\"Random Forest Model fitting started ....\")\n",
    "rf_model = rf_clf.fit(X_train, y_train)\n",
    "pickle.dump(rf_model, open('../../../model/wiki_rf.pkl', 'wb'))\n",
    "print('RF Model saved')\n",
    "y_pred = rf_clf.predict(X_test)\n",
    "y_pred = np.where(y_pred <= 0.5, 0, 1)\n",
    "f1 = f1_score(y_test, y_pred)\n",
    "print('Rf - F1 Score = ', f1)\n",
    "print(classification_report(y_test, y_pred))"
   ]
  },
  {
   "cell_type": "code",
   "execution_count": 14,
   "metadata": {},
   "outputs": [
    {
     "name": "stdout",
     "output_type": "stream",
     "text": [
      "SVM Model fitting started ....\n"
     ]
    },
    {
     "name": "stderr",
     "output_type": "stream",
     "text": [
      "c:\\Users\\nttru\\anaconda3\\envs\\py37\\lib\\site-packages\\sklearn\\utils\\validation.py:63: DataConversionWarning: A column-vector y was passed when a 1d array was expected. Please change the shape of y to (n_samples, ), for example using ravel().\n",
      "  return f(*args, **kwargs)\n"
     ]
    },
    {
     "name": "stdout",
     "output_type": "stream",
     "text": [
      "Model saved\n",
      "F1 Score =  0.7560819462227913\n",
      "              precision    recall  f1-score   support\n",
      "\n",
      "           0       0.73      0.66      0.70      1317\n",
      "           1       0.73      0.79      0.76      1500\n",
      "\n",
      "    accuracy                           0.73      2817\n",
      "   macro avg       0.73      0.73      0.73      2817\n",
      "weighted avg       0.73      0.73      0.73      2817\n",
      "\n"
     ]
    }
   ],
   "source": [
    "#train SVM model\n",
    "from sklearn import svm\n",
    "from sklearn.metrics import f1_score, classification_report\n",
    "\n",
    "svm_clf = svm.SVC(C=4.0, kernel='rbf', degree=7, gamma='scale', coef0=0.0, shrinking=True, \\\n",
    "                    probability=False, tol=0.001, cache_size=200, class_weight=None, verbose=False, \\\n",
    "                    max_iter=-1, decision_function_shape='ovr', break_ties=False, random_state=None)\n",
    "\n",
    "print(\"SVM Model fitting started ....\")\n",
    "svm_model = svm_clf.fit(X_train, y_train)\n",
    "pickle.dump(svm_model, open('../../../model/wiki_svm.pkl', 'wb'))\n",
    "print('SVM Model saved')\n",
    "y_pred = svm_clf.predict(X_test)\n",
    "y_pred = np.where(y_pred <= 0.5, 0, 1)\n",
    "f1 = f1_score(y_test, y_pred)\n",
    "print('SVM - F1 Score = ', f1)\n",
    "print(classification_report(y_test, y_pred))"
   ]
  },
  {
   "cell_type": "code",
   "execution_count": 15,
   "metadata": {},
   "outputs": [
    {
     "name": "stdout",
     "output_type": "stream",
     "text": [
      "XGB Model fitting started ....\n"
     ]
    },
    {
     "name": "stderr",
     "output_type": "stream",
     "text": [
      "c:\\Users\\nttru\\anaconda3\\envs\\py37\\lib\\site-packages\\sklearn\\utils\\validation.py:63: DataConversionWarning: A column-vector y was passed when a 1d array was expected. Please change the shape of y to (n_samples, ), for example using ravel().\n",
      "  return f(*args, **kwargs)\n"
     ]
    },
    {
     "name": "stdout",
     "output_type": "stream",
     "text": [
      "Model saved\n",
      "F1 Score =  0.9996665555185061\n",
      "              precision    recall  f1-score   support\n",
      "\n",
      "           0       1.00      1.00      1.00      1317\n",
      "           1       1.00      1.00      1.00      1500\n",
      "\n",
      "    accuracy                           1.00      2817\n",
      "   macro avg       1.00      1.00      1.00      2817\n",
      "weighted avg       1.00      1.00      1.00      2817\n",
      "\n"
     ]
    },
    {
     "data": {
      "text/plain": [
       "\"\\nexplainer = shap.Explainer(model)\\nX_train = pd.DataFrame(X_train)\\nshap_values = explainer(X_train)\\n# visualize the first prediction's explanation\\nshap.plots.waterfall(shap_values[0])\\n\""
      ]
     },
     "execution_count": 15,
     "metadata": {},
     "output_type": "execute_result"
    }
   ],
   "source": [
    "#XGB model\n",
    "#import shap\n",
    "from sklearn.metrics import f1_score, classification_report\n",
    "from sklearn.ensemble import GradientBoostingClassifier\n",
    "\n",
    "xgb_clf = GradientBoostingClassifier(learning_rate=0.01, n_estimators=1000)\n",
    "print(\"XGB Model fitting started ....\")\n",
    "model = xgb_clf.fit(X_train, y_train)\n",
    "pickle.dump(model, open('../../../model/wiki_xgb.pkl', 'wb'))\n",
    "print('Model saved')\n",
    "y_pred = xgb_clf.predict(X_test)\n",
    "y_pred = np.where(y_pred <= 0.5, 0, 1)\n",
    "f1 = f1_score(y_test, y_pred)\n",
    "print('F1 Score = ', f1)\n",
    "print(classification_report(y_test, y_pred))\n",
    "'''\n",
    "explainer = shap.Explainer(model)\n",
    "X_train = pd.DataFrame(X_train)\n",
    "shap_values = explainer(X_train)\n",
    "# visualize the first prediction's explanation\n",
    "shap.plots.waterfall(shap_values[0])\n",
    "'''"
   ]
  }
 ],
 "metadata": {
  "kernelspec": {
   "display_name": "py37",
   "language": "python",
   "name": "python3"
  },
  "language_info": {
   "codemirror_mode": {
    "name": "ipython",
    "version": 3
   },
   "file_extension": ".py",
   "mimetype": "text/x-python",
   "name": "python",
   "nbconvert_exporter": "python",
   "pygments_lexer": "ipython3",
   "version": "3.7.15"
  },
  "orig_nbformat": 4
 },
 "nbformat": 4,
 "nbformat_minor": 2
}
